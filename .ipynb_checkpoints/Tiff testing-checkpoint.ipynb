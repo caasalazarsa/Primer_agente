{
 "cells": [
  {
   "cell_type": "code",
   "execution_count": 7,
   "metadata": {},
   "outputs": [],
   "source": [
    "%matplotlib inline\n",
    "from pylab import *\n",
    "import numpy as np\n",
    "import cv2\n",
    "import pandas as pd\n",
    "import matplotlib.pyplot as plt\n",
    "import math"
   ]
  },
  {
   "cell_type": "code",
   "execution_count": 8,
   "metadata": {},
   "outputs": [],
   "source": [
    "img=cv2.imread('test.tiff',cv2.IMREAD_UNCHANGED)\n"
   ]
  },
  {
   "cell_type": "code",
   "execution_count": 10,
   "metadata": {},
   "outputs": [
    {
     "ename": "SyntaxError",
     "evalue": "EOL while scanning string literal (<ipython-input-10-7ebb3d1e2d64>, line 3)",
     "output_type": "error",
     "traceback": [
      "\u001b[0;36m  File \u001b[0;32m\"<ipython-input-10-7ebb3d1e2d64>\"\u001b[0;36m, line \u001b[0;32m3\u001b[0m\n\u001b[0;31m    tif = TIFF.open('1deenero/test.tiff, mode='r')\u001b[0m\n\u001b[0m                                                  ^\u001b[0m\n\u001b[0;31mSyntaxError\u001b[0m\u001b[0;31m:\u001b[0m EOL while scanning string literal\n"
     ]
    }
   ],
   "source": [
    "from libtiff import TIFF\n",
    "# to open a tiff file for reading:\n",
    "tif = TIFF.open('1deenero/S2A_tile_20190101_18NXM_0_B04_B03_B02_M_[-73.22087287902833,5.580706825039741,-73.1656837463379,5.628115150029915].tiff, mode='r')\n",
    "# to read all images in a TIFF file:\n",
    "for image in tif.iter_images(): # do stuff with image\n",
    "    \n",
    "    imggray=cv2.cvtColor(image, cv2.COLOR_BGR2GRAY)\n",
    "    \n",
    "    plt.imshow(imggray, cmap='gray')\n",
    "    plt.title('Test Image'), plt.xticks([]), plt.yticks([])\n",
    "    plt.show()\n",
    "    print(imggray.shape)\n",
    "    \n"
   ]
  },
  {
   "cell_type": "code",
   "execution_count": null,
   "metadata": {},
   "outputs": [],
   "source": []
  },
  {
   "cell_type": "code",
   "execution_count": null,
   "metadata": {},
   "outputs": [],
   "source": [
    "\n"
   ]
  },
  {
   "cell_type": "code",
   "execution_count": null,
   "metadata": {},
   "outputs": [],
   "source": []
  },
  {
   "cell_type": "code",
   "execution_count": null,
   "metadata": {},
   "outputs": [],
   "source": []
  }
 ],
 "metadata": {
  "kernelspec": {
   "display_name": "Python 3",
   "language": "python",
   "name": "python3"
  },
  "language_info": {
   "codemirror_mode": {
    "name": "ipython",
    "version": 3
   },
   "file_extension": ".py",
   "mimetype": "text/x-python",
   "name": "python",
   "nbconvert_exporter": "python",
   "pygments_lexer": "ipython3",
   "version": "3.5.2"
  }
 },
 "nbformat": 4,
 "nbformat_minor": 2
}
